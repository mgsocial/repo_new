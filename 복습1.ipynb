{
 "cells": [
  {
   "cell_type": "markdown",
   "metadata": {},
   "source": [
    "## 조인(Join) - natural join 과 inner join 차이\n",
    "\n",
    "### inner join \n",
    "- 일반 조인시  ,(콤마)를 생략 후 WHERE절 대신 ON절을 사용\n",
    "- INNER 생략 가능 \n",
    "\n",
    "### natural join \n",
    "- equi join과 동일\n",
    "- 동일한 이름을 가진 칼럼은 모두 조인이 됨\n",
    "- 동일한 컬럼을 내부적으로 찾게 되므로 테이블 Alias를 주면 오류 발생\n",
    "- 동일한 컬럼이 두개 이상일 경우 join~using 문장으로 조인되는 컬럼 제어 가능\n",
    "\n",
    "### join ~ using\n",
    "- natural join의 단점 극복\n",
    "- using문을 사용해서 컬럼을 선택하여 조인 가능\n",
    "- using절 안에 포함되는 컬럼에 Alias 지정 시 오류 발생\n",
    "\n",
    " SQL> SELECT e.empno, e.ename, deptno FROM emp e JOIN dept d USING (deptno)\n",
    "\n",
    "### on\n",
    "- 조인 조건 지정\n",
    "- 모든 논리 연산 및 서브쿼리 지정 가능"
   ]
  },
  {
   "cell_type": "code",
   "execution_count": 1,
   "metadata": {},
   "outputs": [],
   "source": [
    "qury = \"SELECT name, SUM(grade_point * credits) / tot_cred \\\n",
    "FROM (takes NATURAL JOIN course) NATURAL JOIN student \\\n",
    "GROUP BY name ORDER BY id;\"\n",
    "\n",
    "# (      )를 통해 논리적인 구조 구별 가능(가시성)"
   ]
  },
  {
   "cell_type": "code",
   "execution_count": 2,
   "metadata": {},
   "outputs": [],
   "source": [
    "import sqlite3"
   ]
  },
  {
   "cell_type": "code",
   "execution_count": 3,
   "metadata": {},
   "outputs": [],
   "source": [
    "conn = sqlite3.connect('problem2.db')\n",
    "cur = conn.cursor()"
   ]
  },
  {
   "cell_type": "code",
   "execution_count": 4,
   "metadata": {},
   "outputs": [
    {
     "name": "stdout",
     "output_type": "stream",
     "text": [
      "Zhang 학생의 평점은 3.8714285714285714\n",
      "Shankar 학생의 평점은 3.4285714285714284\n",
      "Brandt 학생의 평점은 3.0\n",
      "Chavez 학생의 평점은 2.3\n",
      "Peltier 학생의 평점은 2.7\n",
      "Levy 학생의 평점은 2.018181818181818\n",
      "Williams 학생의 평점은 3.5\n",
      "Sanchez 학생의 평점은 3.7000000000000006\n",
      "Brown 학생의 평점은 4.0\n",
      "Aoi 학생의 평점은 2.0\n",
      "Bourikas 학생의 평점은 2.257142857142857\n",
      "Tanaka 학생의 평점은 4.0\n"
     ]
    }
   ],
   "source": [
    "for i in cur.execute(qury):\n",
    "    print(f'{i[0]} 학생의 평점은 {i[1]}')"
   ]
  },
  {
   "cell_type": "code",
   "execution_count": 5,
   "metadata": {},
   "outputs": [],
   "source": [
    "conn.close()"
   ]
  },
  {
   "cell_type": "markdown",
   "metadata": {},
   "source": [
    "## 예외 처리  ->  if문 실행 X\n",
    "\n",
    " 올바르지 않은 입력 발생시 input 함수 재실행 <br>\n",
    " **예외 처리는 프로그램화시 반드시 필요한 작업임**"
   ]
  },
  {
   "cell_type": "code",
   "execution_count": 6,
   "metadata": {},
   "outputs": [],
   "source": [
    "def namecheck():\n",
    "    try: \n",
    "        username = str(input(\"당신의 이름을 적어주세요 : \"))\n",
    "        return username\n",
    "    except:\n",
    "        print(\"올바르지 않은 입력입니다.\")\n",
    "        username = namecheck()          #(오류발생시) 함수 재반복\n",
    "        return username"
   ]
  },
  {
   "cell_type": "code",
   "execution_count": 7,
   "metadata": {},
   "outputs": [],
   "source": [
    "def readcheck():\n",
    "    try:\n",
    "        read_check = int(input(\"글을 쓰려면 0, 글을 읽으려면 1을 입력해주세요 : \"))\n",
    "        return read_check\n",
    "    except:\n",
    "        print(\"올바르지 않은 입력입니다!\")\n",
    "        read_check = readcheck()\n",
    "        return read_check\n",
    "    \n",
    "    # 'int() 함수'를 사용하여 문자열(기타) 데이터를 입력 시 오류 발생 구현\n",
    "        "
   ]
  },
  {
   "cell_type": "code",
   "execution_count": 10,
   "metadata": {},
   "outputs": [],
   "source": [
    "# def user_input():\n",
    "#     #사용자가 글을 쓴다고 말한다면 인풋으로 제목과 내용을 받아주세요\n",
    "#     try:\n",
    "#         title = str(input(\"제목을 입력해주세요 : \"))\n",
    "#         content = str(input(\"내용을 입력해주세요 : \"))\n",
    "#         return title, content\n",
    "#     except:\n",
    "#         print(\"올바르지 않은 입력입니다!\")\n",
    "#         title, content = user_input()\n",
    "#         return title, content"
   ]
  },
  {
   "cell_type": "markdown",
   "metadata": {},
   "source": [
    "## if문 raise"
   ]
  },
  {
   "cell_type": "code",
   "execution_count": 12,
   "metadata": {},
   "outputs": [],
   "source": [
    "### 에러 발생시키기\n",
    "\n",
    "def user_input():\n",
    "    #사용자가 글을 쓴다고 말한다면 인풋으로 제목과 내용을 받아주세요\n",
    "    try:\n",
    "        title = str(input(\"제목을 입력해주세요 : \")).strip()      #양쪽 공백 제거\n",
    "        content = str(input(\"내용을 입력해주세요 : \")).strip()\n",
    "        if (len(title) == 0) | (len(content) == 0):\n",
    "            raise                                               # 공백 데이터 입력 시 인풋 재실행\n",
    "        else:\n",
    "            return title, content\n",
    "\n",
    "    except:\n",
    "        print(\"올바르지 않은 입력입니다!\")\n",
    "        title, content = user_input()\n",
    "        return title, content\n",
    "    \n",
    "    \n",
    "# 두개 연속 데이터 입력 실행"
   ]
  },
  {
   "cell_type": "code",
   "execution_count": 13,
   "metadata": {},
   "outputs": [],
   "source": [
    "#user_input()"
   ]
  },
  {
   "cell_type": "markdown",
   "metadata": {},
   "source": [
    "### 공백 데이터 입력 시 오류 발생\n",
    "- 공백을 입력할 경우 다시 인풋\n"
   ]
  },
  {
   "cell_type": "code",
   "execution_count": 14,
   "metadata": {},
   "outputs": [
    {
     "data": {
      "text/plain": [
       "0"
      ]
     },
     "execution_count": 14,
     "metadata": {},
     "output_type": "execute_result"
    }
   ],
   "source": [
    "a = \"\"\n",
    "len(a)"
   ]
  },
  {
   "cell_type": "code",
   "execution_count": 15,
   "metadata": {},
   "outputs": [],
   "source": [
    "def user_search():\n",
    "    try:\n",
    "        title = str(input(\"검색할 제목을 입력해주세요 : \"))\n",
    "        return title\n",
    "    except:\n",
    "        print(\"올바르지 않은 입력입니다!\")\n",
    "        title = user_search()\n",
    "        return title"
   ]
  },
  {
   "cell_type": "markdown",
   "metadata": {},
   "source": [
    "### user_input으로 부터 받은 내용과 namecheck으로부터 받은 내용을 함께 쿼리문으로 db에 INSERT"
   ]
  },
  {
   "cell_type": "code",
   "execution_count": 16,
   "metadata": {},
   "outputs": [],
   "source": [
    "def write(title, content, username, cursor):\n",
    "    cursor.execute(f'insert into feed values (\"{title}\", \"{content}\", \"{username}\")')\n",
    "    print(f'{username}님 글쓰기 완료!')"
   ]
  },
  {
   "cell_type": "markdown",
   "metadata": {},
   "source": [
    "### user_search로 받은 내용을 통해 해당 내용을 제목에 포함하는 글이 있으면 **제목, 내용, 작성자를 모두 표시**  쿼리문으로 db에서 SELECT"
   ]
  },
  {
   "cell_type": "code",
   "execution_count": 17,
   "metadata": {},
   "outputs": [],
   "source": [
    "def read(title, cursor):\n",
    "    user_check = 0\n",
    "    for i in cursor.execute('SELECT title, content, user FROM feed'):\n",
    "        if title in i[0]:\n",
    "            user_check = user_check + 1\n",
    "            print(f'제목 : {i[0]}, 내용 : {i[1]}, 작성자 : {i[2]}')\n",
    "    if (user_check == 0):\n",
    "        print(\"해당 내용이 없습니다!\")\n",
    "        \n",
    "# in 연산자를 통해 \"문자열\" 포함 여부 확인"
   ]
  },
  {
   "cell_type": "code",
   "execution_count": 18,
   "metadata": {},
   "outputs": [],
   "source": [
    "def exitcheck():\n",
    "    stop = int(input(\"\\n계속하시려면 0, 종료하시려면 1을 눌러주세요. : \"))\n",
    "    if stop == 0:\n",
    "        start()\n",
    "    elif stop == 1:\n",
    "        exit()\n",
    "    else:\n",
    "        print(\"올바른 입력을 해주세요!\")\n",
    "        exitcheck()"
   ]
  },
  {
   "cell_type": "markdown",
   "metadata": {},
   "source": [
    "# main() 함수"
   ]
  },
  {
   "cell_type": "code",
   "execution_count": 19,
   "metadata": {},
   "outputs": [],
   "source": [
    "import sqlite3"
   ]
  },
  {
   "cell_type": "code",
   "execution_count": 20,
   "metadata": {},
   "outputs": [
    {
     "name": "stdout",
     "output_type": "stream",
     "text": [
      "\n",
      "나만의 페이스북!\n"
     ]
    },
    {
     "name": "stdin",
     "output_type": "stream",
     "text": [
      "당신의 이름을 적어주세요 :  이민시\n",
      "글을 쓰려면 0, 글을 읽으려면 1을 입력해주세요 :  1\n",
      "검색할 제목을 입력해주세요 :  최\n"
     ]
    },
    {
     "name": "stdout",
     "output_type": "stream",
     "text": [
      "해당 내용이 없습니다!\n"
     ]
    }
   ],
   "source": [
    "def start():\n",
    "    print(\"\\n나만의 페이스북!\")\n",
    "    \n",
    "    username = namecheck()\n",
    "    read_check = readcheck()\n",
    "    \n",
    "    conn = sqlite3.connect('imzuckerberg2.db')\n",
    "    cursor = conn.cursor()\n",
    "    \n",
    "    qury_c = 'create table if not exists feed (title text, content text, username text)'\n",
    "    cursor.execute(qury_c)\n",
    "    conn.commit()\n",
    "    \n",
    "    if read_check == 0:\n",
    "        title, content = user_input()\n",
    "        write(title, content, username, cursor)\n",
    "        conn.commit()\n",
    "        \n",
    "    elif read_check == 1:\n",
    "        title = user_search()\n",
    "        read(title, cursor)\n",
    "        \n",
    "    else:\n",
    "        print(\"올바른 숫자를 입력하세요!\")\n",
    "        start()\n",
    "        \n",
    "    \n",
    "#    exitcheck()\n",
    "    conn.close()\n",
    "    \n",
    "start()   "
   ]
  },
  {
   "cell_type": "markdown",
   "metadata": {},
   "source": [
    "## 상점 데이터를 추가하고 원하는 컬럼을 읽는 프로그램"
   ]
  },
  {
   "cell_type": "code",
   "execution_count": 21,
   "metadata": {},
   "outputs": [],
   "source": [
    "# csv 문제\n",
    "\n",
    "# pythom csv 모듈 공식 문석 참고\n",
    "# pandas 등 사용하지 않고 풀기\n",
    "# 한글데이터 -> 구글링 ex) 검색 : python 한글 인코딩 문제\n",
    "\n",
    "# 상점의 데이터 -> (이름, 위치, 판매하는 상품, 전화번호)\n"
   ]
  },
  {
   "cell_type": "markdown",
   "metadata": {},
   "source": [
    "### 딕셔너리를 데이터셋으로 사용하는 이유는 결측치가 발생했을 때 오류 최소화시킴"
   ]
  },
  {
   "cell_type": "code",
   "execution_count": 22,
   "metadata": {},
   "outputs": [],
   "source": [
    "# 필요한 기능\n",
    "# 1. 상점의 데이터를 csv 파일에 등록하는 기능\n",
    "# 2. 상점들의 이름을 모두 출력하는 기능\n",
    "# 3. 상점의 이름을 입력 받으면, 해당 상점의 위치를 출력하는 기능\n",
    "# 4. 상점의 이름을 입력 받으면, 해당 상점의 판매하는 상품을 출력하는 기능\n",
    "# 5. 상점의 이름을 입력 받으면, 해당 상점의 전화번호를 출력하는 기능\n",
    "\n",
    "# 실행 예시\n",
    "# 1. 출력 : “성공적으로 등록되었습니다 “ / 결과 : csv 파일에 등록한 이름 잘 들어갈것\n",
    "# 2. 출력 : “빽다방 광주 상무역점, 새마을 식당 광주 금호점, 빽다방 종로관철점, 백인공지능 판매점”\n",
    "# 3. 출력: “빽다방 광주 상무역점의 위치는 광주 서구 치평로 20 입니다. / 없을 경우 : \"입력하신 이름의 상점이 없습니다.\"\n",
    "# 4. 출력 : “빽다방 광주 상무역점은 커피를 판매합니다.” / 없을 경우 : \"입력하신 이름의 상점이 없습니다.\"\n",
    "# 5. 출력 : “빽다방 광주 상무역점의 전화번호는 0507-1430-3335 입니다.” / 없을 경우 : \"입력하신 이름의 상점이 없습니다.\""
   ]
  },
  {
   "cell_type": "code",
   "execution_count": 27,
   "metadata": {},
   "outputs": [],
   "source": [
    "import csv"
   ]
  },
  {
   "cell_type": "code",
   "execution_count": 51,
   "metadata": {},
   "outputs": [],
   "source": [
    "stores_data_csv_path = './stores_data.csv'\n",
    "\n",
    "def get_csv_row_count(file_path):\n",
    "    with open(file_path, 'r') as csvfile:\n",
    "        row_count = sum(1 for row in csv.reader(csvfile))\n",
    "        return row_count\n"
   ]
  },
  {
   "cell_type": "code",
   "execution_count": 50,
   "metadata": {},
   "outputs": [],
   "source": [
    "def get_store_data():\n",
    "    row_count = get_csv_row_count(stores_data_csv_path)     #전체 검색해야한 행의 수 세기\n",
    "    \n",
    "    with open(stores_data_csv_path, 'r') as csvfile:\n",
    "        csv_reader = csv.reader(csvfile)\n",
    "        \n",
    "        count = 0           # 몇번 실행했는지 세기\n",
    "        \n",
    "        for row in csv_reader:\n",
    "            count += 1\n",
    "            \n",
    "            if target_name == row[0]:\n",
    "                \n",
    "                return row[int(selected)-2]        #셀렉된 번호에 따라 열번호에 맞게 출력함\n",
    "            elif count == row_count:\n",
    "                return '입력하신 이름의 상점이 없습니다.'\n",
    "            "
   ]
  },
  {
   "cell_type": "code",
   "execution_count": 37,
   "metadata": {},
   "outputs": [],
   "source": [
    "def add_stores_data():\n",
    "    user_input = {\"name\": input('등록하실 상점의 이름을 입력하세요 : \\n'), \\\n",
    "                  \"location\": input('등록하실 상점의 위치를 입력하세요 : \\n'), \\\n",
    "                  \"goods\": input('등록하실 상점의 상품 종류를 입력하세요 : \\n'),\\\n",
    "                  \"num\": input('등록하실 상점의 전화번호를 입력하세요 : \\n')}\n",
    "    \n",
    "    with open('stores_data.csv', 'a') as csvfile:\n",
    "        fieldnames = [\"name\", \"location\", \"goods\", \"num\"]\n",
    "        csv_writer = csv.DictWriter(csvfile, fieldnames = fieldnames)\n",
    "        csv_writer.writerow(user_input)\n",
    "        \n",
    "    return print('성공적으로 추가하였습니다!')"
   ]
  },
  {
   "cell_type": "code",
   "execution_count": 44,
   "metadata": {},
   "outputs": [
    {
     "name": "stdin",
     "output_type": "stream",
     "text": [
      "등록하실 상점의 이름을 입력하세요 : \n",
      " ㅇㄴㅁㅇ\n",
      "등록하실 상점의 위치를 입력하세요 : \n",
      " 32\n",
      "등록하실 상점의 상품 종류를 입력하세요 : \n",
      " ㅈㅇㄴ\n",
      "등록하실 상점의 전화번호를 입력하세요 : \n",
      " 1\n"
     ]
    },
    {
     "name": "stdout",
     "output_type": "stream",
     "text": [
      "성공적으로 추가하였습니다!\n"
     ]
    }
   ],
   "source": [
    "add_stores_data()"
   ]
  },
  {
   "cell_type": "code",
   "execution_count": 48,
   "metadata": {},
   "outputs": [],
   "source": [
    "def get_stores_name():\n",
    "    stores_names = []\n",
    "    \n",
    "    with open(stores_data_csv_path, 'r') as csvfile:\n",
    "        csv_reader = csv.reader(csvfile)\n",
    "        \n",
    "        count = 0\n",
    "        \n",
    "        for row in csv_reader:\n",
    "            if count == 0:\n",
    "                count += 1\n",
    "                continue\n",
    "            else:\n",
    "                stores_names.append(row[0])\n",
    "                \n",
    "    return stores_names\n"
   ]
  },
  {
   "cell_type": "code",
   "execution_count": 52,
   "metadata": {},
   "outputs": [],
   "source": [
    "def main():\n",
    "    selected = input(\"1 - 상점추가, 2 - 상점 모두 보기, 3 - 상점 위치 찾기, 4 - 판매하는 상품 종류 보기, \\\n",
    "                     5 - 상점 전화번호 찾기, 0 - 프로그램종료\")\n",
    "\n",
    "    # TODO 0. csv 파일이 생성되지 않으면 읽을 수 없습니다. TODO 1의 등록하는 기능을 구현하여, 예시 데이터를 Write 하는 과정을 먼저 수행해주세요.\n",
    "    \n",
    "    if selected == '1':\n",
    "    # TODO 1. 상점의 데이터를 csv 파일에 등록하는 기능\n",
    "    # - 상점의 이름, 위치, 상품종류, 전화번호를 예시 데이터에 맞게 입력을 받기\n",
    "    # - 입력 받은 데이터를 csv 파일에 write\n",
    "        add_stores_data()\n",
    "    \n",
    "    elif selected == '2':\n",
    "    # TODO 2. 상점의 이름을 모두 출력하는 기능\n",
    "    # - csv 에 등록되어 있는 모든 파일의 이름을 출력하기\n",
    "        get_stores_name()\n",
    "        \n",
    "    elif selected == '3' or '4' or '5':\n",
    "    # TODO 3. 상점 위치 찾기 기능\n",
    "    # - 상점 이름을 입력받고, 해당 상점의 위치를 출력 해주기\n",
    "    \n",
    "    # TODO 4. 판매하는 물건 보기\n",
    "    # - 상점 이름을 입력받고, 해당 상점의 판매하는 상품 종류 출력 해주기\n",
    "        # TODO 5. 상점 전화번호 찾기\n",
    "    # - 상점 이름을 입력받고, 해당 상점의 전화번호를 출력하는 기능\n",
    "        target_name = input('찾으실 상점의 이름을 입력하세요 : \\n')\n",
    "        print(get_store_data(selected, target_name))\n",
    "        \n",
    "    elif selected == '0':\n",
    "        exit()"
   ]
  },
  {
   "cell_type": "code",
   "execution_count": 54,
   "metadata": {},
   "outputs": [
    {
     "name": "stdin",
     "output_type": "stream",
     "text": [
      "1 - 상점추가, 2 - 상점 모두 보기, 3 - 상점 위치 찾기, 4 - 판매하는 상품 종류 보기,                      5 - 상점 전화번호 찾기, 0 - 프로그램종료 1\n",
      "등록하실 상점의 이름을 입력하세요 : \n",
      " 빽다\n",
      "등록하실 상점의 위치를 입력하세요 : \n",
      " 구서\n",
      "등록하실 상점의 상품 종류를 입력하세요 : \n",
      " 서점\n",
      "등록하실 상점의 전화번호를 입력하세요 : \n",
      " 01058853913\n"
     ]
    },
    {
     "name": "stdout",
     "output_type": "stream",
     "text": [
      "성공적으로 추가하였습니다!\n"
     ]
    }
   ],
   "source": [
    "# 메인 함수 실행\n",
    "main()"
   ]
  },
  {
   "cell_type": "markdown",
   "metadata": {},
   "source": [
    "## CSV 파일 다루기\n",
    "\n",
    "### CSV 파일 사용하는 이유?\n",
    "- 파일 크기가 작으므로, 표 형식의 데이터를 Plain Text로 쉽게 생성 가능\n",
    "- 대부분의 프로그래밍 언어나, 데이터분석 툴에서 CSV 파일 지원\n",
    "- 파이썬 내장 라이브러리만으로 읽기/쓰기 가능"
   ]
  },
  {
   "cell_type": "markdown",
   "metadata": {},
   "source": [
    "### csv 파일 mode 작성 방법\n",
    "- 작성할 때, r(읽기), w(쓰기), a(추가하기) 세가지 중 하나와 t(텍스트), b(바이너리) 둘중 하나와 반드시 결합해야 하며, 나머지는 optional하게 사용 가능\n",
    "\n",
    "- mode : 파일이 열리는 모드\n",
    "- ‘r’: 읽기 용으로 열림(기본값)\n",
    "- ‘w’: 쓰기 위해 열기, 파일을 먼저 자른다.\n",
    "- ‘x’: 베타적 생성을 위해 열리고, 이미 존재하는 경우 실패\n",
    "- ‘a’: 쓰기를 위해 열려 있고, 파일의 끝에 추가하는 경우 추가한다.\n",
    "- ‘b’: 2진 모드(바이너리 모드)\n",
    "- ‘t’: 텍스트 모드(기본값)\n",
    "- ‘+’: 업데이트(읽기 및 쓰기)를 위한 디스크 파일 열기\n",
    "- ‘U’: 유니버설 개행 모드(사용되지 않음)"
   ]
  },
  {
   "cell_type": "markdown",
   "metadata": {},
   "source": [
    "#### 파일 쓰고 읽기시\n",
    "윈도우에서는 csv 모듈에서 데이터 작성 시, 각 라인 뒤에 빈 라인이 추가되는 문제가 있는데, 이를 없애기 위해 (파이썬 3에서) 파일 open 시, newline=”” 설정한다."
   ]
  },
  {
   "cell_type": "code",
   "execution_count": 63,
   "metadata": {},
   "outputs": [],
   "source": [
    "# csv 파일 읽기\n",
    "line_counter = 0\n",
    "header = []\n",
    "call_list = []\n",
    "\n",
    "with open('Calldata_2002.csv') as f:\n",
    "    csv_reader = csv.reader(f)\n",
    "    \n",
    "    for row in csv_reader:\n",
    "        if line_counter == 0:\n",
    "            header = row\n",
    "        else:\n",
    "            call_list.append(row)\n",
    "        line_counter += 1"
   ]
  },
  {
   "cell_type": "code",
   "execution_count": 64,
   "metadata": {},
   "outputs": [
    {
     "data": {
      "text/plain": [
       "556709"
      ]
     },
     "execution_count": 64,
     "metadata": {},
     "output_type": "execute_result"
    }
   ],
   "source": [
    "line_counter"
   ]
  },
  {
   "cell_type": "code",
   "execution_count": 65,
   "metadata": {},
   "outputs": [
    {
     "data": {
      "text/plain": [
       "['\\ufeff\"일자(YYYYMMDD)\"',\n",
       " '연령',\n",
       " '성별',\n",
       " '발신지(시도)',\n",
       " '발신지(시군구)',\n",
       " '대분류',\n",
       " '중분류',\n",
       " '통화비율(시군구내)']"
      ]
     },
     "execution_count": 65,
     "metadata": {},
     "output_type": "execute_result"
    }
   ],
   "source": [
    "header"
   ]
  },
  {
   "cell_type": "code",
   "execution_count": 67,
   "metadata": {},
   "outputs": [
    {
     "data": {
      "text/plain": [
       "[['20200218', '30', '남성', '강원', '강릉시', '교통편의', '자동차시설', '0.0002'],\n",
       " ['20200206', '40', '남성', '강원', '강릉시', '의료편의', '의료시설', '0.0002'],\n",
       " ['20200204', '30', '남성', '강원', '강릉시', '금융편의', '주요금융', '0.0002'],\n",
       " ['20200204', '40', '여성', '강원', '강릉시', '생활편의', '생활서비스', '0.0001'],\n",
       " ['20200217', '50', '남성', '강원', '강릉시', '생활편의', '생활서비스', '0.0002']]"
      ]
     },
     "execution_count": 67,
     "metadata": {},
     "output_type": "execute_result"
    }
   ],
   "source": [
    "call_list[0:5]"
   ]
  },
  {
   "cell_type": "code",
   "execution_count": 69,
   "metadata": {},
   "outputs": [],
   "source": [
    "# csv\n",
    "\n",
    "# f = open('data.csv', 'r', encoding='utf-8')\n",
    "# rdr = csv.reader(f)\n",
    "# for line in rdr:\n",
    "#     print(line)\n",
    "# f.close()    "
   ]
  },
  {
   "cell_type": "code",
   "execution_count": 70,
   "metadata": {},
   "outputs": [],
   "source": [
    "# csv 파일 쓰기\n",
    "\n",
    "f = open('output.csv', 'w', encoding='utf-8', newline='')\n",
    "wr = csv.writer(f)\n",
    "wr.writerow([1, \"이민기\", False])\n",
    "wr.writerow([2, \"김민기\", True])\n",
    "f.close()"
   ]
  },
  {
   "cell_type": "code",
   "execution_count": 77,
   "metadata": {},
   "outputs": [],
   "source": [
    "# 리스트를 csv로 쓰기\n",
    "\n",
    "file_list = [[0, \"정석\", 1, 56],[1,\"범준\",2,51],[2, \"미도\", 2, 43]]\n",
    "with open('test.csv', 'w', newline='') as csvfile:\n",
    "    writer = csv.writer(csvfile)\n",
    "    writer.writerow(['인덱스','이름','반','번호'])\n",
    "    for i in file_list:\n",
    "        writer.writerow(i)"
   ]
  },
  {
   "cell_type": "code",
   "execution_count": 78,
   "metadata": {},
   "outputs": [],
   "source": [
    "# 딕셔너리를 csv로 쓰기\n",
    "\n",
    "with open('test.csv', 'w') as csvfile:\n",
    "    writer = csv.DictWriter(csvfile, fieldnames = ['인덱스','이름','반','번호'])\n",
    "    writer.writeheader()\n",
    "    writer.writerow({'인덱스': '0', '이름': '정석', '반': '1', '번호': '56'})\n",
    "    writer.writerow({'인덱스': '1', '이름': '범준', '반': '2', '번호': '29'})\n",
    "    writer.writerow({'인덱스': '2', '이름': '창모', '반': '1', '번호': '34'})\n",
    "    "
   ]
  },
  {
   "cell_type": "code",
   "execution_count": 72,
   "metadata": {},
   "outputs": [],
   "source": [
    "# tsv 파일 쓰기\n",
    "\n",
    "with open('test.tsv', 'w', encoding='utf-8') as f:\n",
    "    tsv_writer = csv.writer(f, delimiter='\\t')        # 구분자(delimiter) 옵션값 지정\n",
    "    tsv_writer.writerow([1, 'test'])\n",
    "    tsv_writer.writerow([2, 'train'])\n",
    "    "
   ]
  },
  {
   "cell_type": "code",
   "execution_count": 74,
   "metadata": {},
   "outputs": [
    {
     "name": "stdout",
     "output_type": "stream",
     "text": [
      "['1', 'test']\n",
      "['2', 'train']\n"
     ]
    }
   ],
   "source": [
    "# tsv 파일 읽기\n",
    "\n",
    "with open('test.tsv', 'r', encoding='utf-8') as f:\n",
    "    tsv_reader = csv.reader(f, delimiter='\\t')\n",
    "    \n",
    "    for row in tsv_reader:\n",
    "        print(row)"
   ]
  },
  {
   "cell_type": "code",
   "execution_count": null,
   "metadata": {},
   "outputs": [],
   "source": []
  }
 ],
 "metadata": {
  "kernelspec": {
   "display_name": "Python 3",
   "language": "python",
   "name": "python3"
  },
  "language_info": {
   "codemirror_mode": {
    "name": "ipython",
    "version": 3
   },
   "file_extension": ".py",
   "mimetype": "text/x-python",
   "name": "python",
   "nbconvert_exporter": "python",
   "pygments_lexer": "ipython3",
   "version": "3.7.6"
  }
 },
 "nbformat": 4,
 "nbformat_minor": 4
}
